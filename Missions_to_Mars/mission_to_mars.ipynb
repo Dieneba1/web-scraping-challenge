{
 "cells": [
  {
   "cell_type": "code",
   "execution_count": 1,
   "id": "e0bf231b",
   "metadata": {},
   "outputs": [],
   "source": [
    "import os\n",
    "import pandas as pd\n",
    "from bs4 import BeautifulSoup as bs \n",
    "from webdriver_manager.chrome import ChromeDriverManager\n",
    "from splinter import Browser\n",
    "import requests\n",
    "import pymongo\n",
    "import pprint"
   ]
  },
  {
   "cell_type": "code",
   "execution_count": 2,
   "id": "28c2df2a",
   "metadata": {},
   "outputs": [
    {
     "name": "stderr",
     "output_type": "stream",
     "text": [
      "\n",
      "\n",
      "====== WebDriver manager ======\n",
      "Current google-chrome version is 95.0.4638\n",
      "Get LATEST driver version for 95.0.4638\n",
      "Driver [/Users/dienebadiaby/.wdm/drivers/chromedriver/mac64/95.0.4638.69/chromedriver] found in cache\n"
     ]
    }
   ],
   "source": [
    "executable_path = {'executable_path': ChromeDriverManager().install()}\n",
    "browser = Browser('chrome', **executable_path, headless=False)"
   ]
  },
  {
   "cell_type": "code",
   "execution_count": 3,
   "id": "21a1392d",
   "metadata": {},
   "outputs": [
    {
     "ename": "NameError",
     "evalue": "name 'BeautifulSoup' is not defined",
     "output_type": "error",
     "traceback": [
      "\u001b[0;31m---------------------------------------------------------------------------\u001b[0m",
      "\u001b[0;31mNameError\u001b[0m                                 Traceback (most recent call last)",
      "\u001b[0;32m<ipython-input-3-ad086afe8193>\u001b[0m in \u001b[0;36m<module>\u001b[0;34m\u001b[0m\n\u001b[1;32m      1\u001b[0m \u001b[0mmars_url\u001b[0m\u001b[0;34m=\u001b[0m \u001b[0;34m(\u001b[0m\u001b[0;34m\"https://redplanetscience.com/\"\u001b[0m\u001b[0;34m)\u001b[0m\u001b[0;34m\u001b[0m\u001b[0;34m\u001b[0m\u001b[0m\n\u001b[1;32m      2\u001b[0m \u001b[0mresponse\u001b[0m\u001b[0;34m=\u001b[0m\u001b[0mrequests\u001b[0m\u001b[0;34m.\u001b[0m\u001b[0mget\u001b[0m\u001b[0;34m(\u001b[0m\u001b[0mmars_url\u001b[0m\u001b[0;34m)\u001b[0m\u001b[0;34m\u001b[0m\u001b[0;34m\u001b[0m\u001b[0m\n\u001b[0;32m----> 3\u001b[0;31m \u001b[0msoup\u001b[0m\u001b[0;34m=\u001b[0m \u001b[0mBeautifulSoup\u001b[0m\u001b[0;34m(\u001b[0m\u001b[0mresponse\u001b[0m\u001b[0;34m.\u001b[0m\u001b[0mtext\u001b[0m\u001b[0;34m,\u001b[0m \u001b[0;34m'html.parser'\u001b[0m\u001b[0;34m)\u001b[0m\u001b[0;34m\u001b[0m\u001b[0;34m\u001b[0m\u001b[0m\n\u001b[0m\u001b[1;32m      4\u001b[0m \u001b[0mprint\u001b[0m \u001b[0;34m(\u001b[0m\u001b[0msoup\u001b[0m\u001b[0;34m.\u001b[0m\u001b[0mprettify\u001b[0m\u001b[0;34m(\u001b[0m\u001b[0;34m)\u001b[0m\u001b[0;34m)\u001b[0m\u001b[0;34m\u001b[0m\u001b[0;34m\u001b[0m\u001b[0m\n",
      "\u001b[0;31mNameError\u001b[0m: name 'BeautifulSoup' is not defined"
     ]
    }
   ],
   "source": [
    "mars_url= (\"https://redplanetscience.com/\")\n",
    "response=requests.get(mars_url)\n",
    "soup= BeautifulSoup(response.text, 'html.parser')\n",
    "print (soup.prettify())"
   ]
  },
  {
   "cell_type": "code",
   "execution_count": null,
   "id": "28c0b1c6",
   "metadata": {},
   "outputs": [],
   "source": [
    "browser.visit(mars_url)\n",
    "html = browser.html\n",
    "soup = bs(html, 'html.parser')\n",
    "titles = soup.find_all('div', class_='content_title')\n",
    "articles = soup.find_all('div', class_='article_teaser_body')\n",
    "news_title=titles[0].get_text()\n",
    "print (news_title)"
   ]
  },
  {
   "cell_type": "code",
   "execution_count": null,
   "id": "701a23d0",
   "metadata": {},
   "outputs": [],
   "source": [
    "news_p=articles[0].get_text()\n",
    "print (news_p)"
   ]
  },
  {
   "cell_type": "code",
   "execution_count": null,
   "id": "249c11ad",
   "metadata": {},
   "outputs": [],
   "source": [
    "space_image_url= ('https://spaceimages-mars.com')\n",
    "browser.visit(space_image_url)\n",
    "browser.links.find_by_partial_text(\"FULL IMAGE\").click()\n",
    "html=browser.html\n",
    "soup=bs(html, 'html.parser')\n",
    "image=soup.find('img', class_=\"fancybox-image\")[\"src\"]\n",
    "featured_image_url='https://spaceimages-mars.com/'+image\n",
    "print (featured_image_url)"
   ]
  },
  {
   "cell_type": "code",
   "execution_count": null,
   "id": "54da7546",
   "metadata": {},
   "outputs": [],
   "source": [
    "Mars_df=pd.read_html(\"https://galaxyfacts-mars.com\")\n",
    "Mars_facts=Mars_df[0]\n",
    "Mars_facts"
   ]
  },
  {
   "cell_type": "code",
   "execution_count": null,
   "id": "e17afd2a",
   "metadata": {},
   "outputs": [],
   "source": [
    "Mars_html=Mars_facts.to_html()\n",
    "Mars_html"
   ]
  },
  {
   "cell_type": "code",
   "execution_count": null,
   "id": "56b32292",
   "metadata": {},
   "outputs": [],
   "source": [
    "hemisphere_url=\"https://marshemispheres.com/\"\n",
    "browser.visit(hemisphere_url)\n",
    "hemisphere_links=browser.links.find_by_partial_text(\"Hemisphere Enhanced\")\n",
    "hemisphere_image_urls=[]\n",
    "for link in range(len(hemisphere_links)):\n",
    "    browser.links.find_by_partial_text(\"Hemisphere Enhanced\")[link].click()\n",
    "    html=browser.html\n",
    "    soup=bs(html, 'html.parser')\n",
    "    hemisphere_dic={}\n",
    "    hemisphere=soup.find('h2',class_='title')\n",
    "    hemisphere_dic[\"title\"]=hemisphere.get_text()\n",
    "    img_link_list=soup.find('div',class_='downloads').find_all('a')\n",
    "    for img_link in img_link_list:\n",
    "        if img_link.text == \"Sample\":\n",
    "            img_link_full = f\"{hemisphere_url}{img_link['href']}\"\n",
    "            hemisphere_dic[\"img_url\"]=img_link_full\n",
    "            hemisphere_image_urls.append(hemisphere_dic)\n",
    "            browser.back()\n",
    "    \n",
    "print (hemisphere_image_urls)"
   ]
  },
  {
   "cell_type": "code",
   "execution_count": null,
   "id": "516976b3",
   "metadata": {},
   "outputs": [],
   "source": []
  }
 ],
 "metadata": {
  "kernelspec": {
   "display_name": "Python 3",
   "language": "python",
   "name": "python3"
  },
  "language_info": {
   "codemirror_mode": {
    "name": "ipython",
    "version": 3
   },
   "file_extension": ".py",
   "mimetype": "text/x-python",
   "name": "python",
   "nbconvert_exporter": "python",
   "pygments_lexer": "ipython3",
   "version": "3.8.8"
  }
 },
 "nbformat": 4,
 "nbformat_minor": 5
}
